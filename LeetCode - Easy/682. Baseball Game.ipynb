{
 "cells": [
  {
   "cell_type": "code",
   "execution_count": 1,
   "id": "4e86e134",
   "metadata": {},
   "outputs": [],
   "source": [
    "def calPoints(ops):\n",
    "        list = []\n",
    "        for i in range(len(ops)):\n",
    "            if ops[i].isnumeric():\n",
    "                list.append(int(ops[i]))\n",
    "            if \"-\" in ops[i]:\n",
    "                ops[i].replace(\"-\",\"\")\n",
    "                list.append(int(ops[i]))\n",
    "            elif ops[i] == \"C\":\n",
    "                list.pop()\n",
    "            elif ops[i] == \"D\":\n",
    "                list.append(list[len(list)-1]*2)\n",
    "            elif ops[i] == \"+\":\n",
    "                list.append(list[len(list)-1]+list[len(list)-2])\n",
    "        return sum(list)\n",
    "        "
   ]
  },
  {
   "cell_type": "code",
   "execution_count": 2,
   "id": "578c4a1d",
   "metadata": {},
   "outputs": [
    {
     "data": {
      "text/plain": [
       "30"
      ]
     },
     "execution_count": 2,
     "metadata": {},
     "output_type": "execute_result"
    }
   ],
   "source": [
    "calPoints([\"5\",\"2\",\"C\",\"D\",\"+\"])"
   ]
  },
  {
   "cell_type": "code",
   "execution_count": null,
   "id": "fc1866ac",
   "metadata": {},
   "outputs": [],
   "source": []
  }
 ],
 "metadata": {
  "kernelspec": {
   "display_name": "Python 3 (ipykernel)",
   "language": "python",
   "name": "python3"
  },
  "language_info": {
   "codemirror_mode": {
    "name": "ipython",
    "version": 3
   },
   "file_extension": ".py",
   "mimetype": "text/x-python",
   "name": "python",
   "nbconvert_exporter": "python",
   "pygments_lexer": "ipython3",
   "version": "3.9.7"
  }
 },
 "nbformat": 4,
 "nbformat_minor": 5
}
