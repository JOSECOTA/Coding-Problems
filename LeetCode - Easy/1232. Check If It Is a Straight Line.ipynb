{
 "cells": [
  {
   "cell_type": "code",
   "execution_count": 7,
   "id": "ab6374f9",
   "metadata": {},
   "outputs": [],
   "source": [
    "def checkStraightLine(coordinates):\n",
    "        listx = []\n",
    "        listy = []\n",
    "        list = []\n",
    "        for i in range(len(coordinates)):\n",
    "            x,y = coordinates[i]\n",
    "            listx.append(x)\n",
    "            listy.append(y)\n",
    "        \n",
    "        if len(set(listx)) == 1 or len(set(listy)) == 1:\n",
    "            return True\n",
    "        else:\n",
    "            \n",
    "            for c in range(len(listx)-1):\n",
    "                dify = listy[c+1] - listy[c]\n",
    "                difx = listx[c+1] - listx[c]\n",
    "                if difx == 0:\n",
    "                    return False\n",
    "                else:\n",
    "                    div = dify / difx\n",
    "                    list.append(div)\n",
    "                    \n",
    "\n",
    "        if len(set(list)) == 1:\n",
    "            return True\n",
    "        else:\n",
    "            return False"
   ]
  },
  {
   "cell_type": "code",
   "execution_count": 6,
   "id": "2a5d2505",
   "metadata": {},
   "outputs": [
    {
     "data": {
      "text/plain": [
       "False"
      ]
     },
     "execution_count": 6,
     "metadata": {},
     "output_type": "execute_result"
    }
   ],
   "source": [
    "checkStraightLine([[1,1],[2,2],[3,4],[4,5],[5,6],[7,7]])"
   ]
  },
  {
   "cell_type": "code",
   "execution_count": null,
   "id": "ce5f2fcc",
   "metadata": {},
   "outputs": [],
   "source": []
  }
 ],
 "metadata": {
  "kernelspec": {
   "display_name": "Python 3 (ipykernel)",
   "language": "python",
   "name": "python3"
  },
  "language_info": {
   "codemirror_mode": {
    "name": "ipython",
    "version": 3
   },
   "file_extension": ".py",
   "mimetype": "text/x-python",
   "name": "python",
   "nbconvert_exporter": "python",
   "pygments_lexer": "ipython3",
   "version": "3.9.7"
  }
 },
 "nbformat": 4,
 "nbformat_minor": 5
}
