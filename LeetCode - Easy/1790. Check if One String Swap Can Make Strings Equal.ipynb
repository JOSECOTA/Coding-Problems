{
 "cells": [
  {
   "cell_type": "code",
   "execution_count": 1,
   "id": "d61d1abd",
   "metadata": {},
   "outputs": [],
   "source": [
    "def areAlmostEqual(s1, s2):\n",
    "    count=0\n",
    "    list1 = []\n",
    "    list2 = []\n",
    "\n",
    "    for i in range(len(s2)):\n",
    "        list1.append(s1[i])\n",
    "        list2.append(s2[i])\n",
    "        if s1[i] == s2[i]:\n",
    "            count += 1\n",
    "    if count == len(s2) or count == len(s2)-2 and sorted(list1) == sorted(list2):\n",
    "        return True\n",
    "    else:\n",
    "        return False"
   ]
  },
  {
   "cell_type": "code",
   "execution_count": 3,
   "id": "6ea24959",
   "metadata": {},
   "outputs": [
    {
     "data": {
      "text/plain": [
       "False"
      ]
     },
     "execution_count": 3,
     "metadata": {},
     "output_type": "execute_result"
    }
   ],
   "source": [
    "areAlmostEqual(s1 = \"attack\", s2 = \"defend\")"
   ]
  },
  {
   "cell_type": "code",
   "execution_count": null,
   "id": "09f3cef4",
   "metadata": {},
   "outputs": [],
   "source": []
  }
 ],
 "metadata": {
  "kernelspec": {
   "display_name": "Python 3 (ipykernel)",
   "language": "python",
   "name": "python3"
  },
  "language_info": {
   "codemirror_mode": {
    "name": "ipython",
    "version": 3
   },
   "file_extension": ".py",
   "mimetype": "text/x-python",
   "name": "python",
   "nbconvert_exporter": "python",
   "pygments_lexer": "ipython3",
   "version": "3.9.7"
  }
 },
 "nbformat": 4,
 "nbformat_minor": 5
}
